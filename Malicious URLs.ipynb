{
 "cells": [
  {
   "cell_type": "code",
   "execution_count": 2,
   "metadata": {},
   "outputs": [],
   "source": [
    "import pandas as pd\n",
    "import matplotlib.pyplot as plt\n",
    "import numpy as np\n",
    "import seaborn as sns\n",
    "from sklearn.preprocessing import StandardScaler, MinMaxScaler\n",
    "from sklearn.preprocessing import LabelEncoder\n",
    "from sklearn.tree import DecisionTreeClassifier\n",
    "from sklearn.metrics import classification_report\n",
    "from sklearn.metrics import accuracy_score\n",
    "from sklearn.metrics import confusion_matrix\n",
    "from sklearn.model_selection import cross_val_score\n",
    "from sklearn.ensemble import RandomForestClassifier\n",
    "from sklearn.model_selection import  train_test_split\n",
    "from sklearn.decomposition import PCA\n",
    "import tldextract\n",
    "import re\n",
    "import itertools"
   ]
  },
  {
   "cell_type": "code",
   "execution_count": 3,
   "metadata": {},
   "outputs": [],
   "source": [
    "df = pd.read_csv(r'C:/Users/eprmitr/Desktop/Blogs/AI-ML/Malicious_urls.csv', sep = ',')"
   ]
  },
  {
   "cell_type": "code",
   "execution_count": 4,
   "metadata": {},
   "outputs": [
    {
     "name": "stdout",
     "output_type": "stream",
     "text": [
      "The sample size of the dataset is: 420464 rows and  2 features\n"
     ]
    }
   ],
   "source": [
    "print(\"The sample size of the dataset is:\",df.shape[0],\"rows and \", df.shape[1], \"features\")"
   ]
  },
  {
   "cell_type": "code",
   "execution_count": 5,
   "metadata": {},
   "outputs": [
    {
     "name": "stdout",
     "output_type": "stream",
     "text": [
      "<class 'pandas.core.frame.DataFrame'>\n",
      "RangeIndex: 420464 entries, 0 to 420463\n",
      "Data columns (total 2 columns):\n",
      "url      420464 non-null object\n",
      "label    420464 non-null object\n",
      "dtypes: object(2)\n",
      "memory usage: 6.4+ MB\n"
     ]
    }
   ],
   "source": [
    "df.info()"
   ]
  },
  {
   "cell_type": "code",
   "execution_count": 6,
   "metadata": {},
   "outputs": [
    {
     "data": {
      "text/html": [
       "<div>\n",
       "<style scoped>\n",
       "    .dataframe tbody tr th:only-of-type {\n",
       "        vertical-align: middle;\n",
       "    }\n",
       "\n",
       "    .dataframe tbody tr th {\n",
       "        vertical-align: top;\n",
       "    }\n",
       "\n",
       "    .dataframe thead th {\n",
       "        text-align: right;\n",
       "    }\n",
       "</style>\n",
       "<table border=\"1\" class=\"dataframe\">\n",
       "  <thead>\n",
       "    <tr style=\"text-align: right;\">\n",
       "      <th></th>\n",
       "      <th>url</th>\n",
       "      <th>label</th>\n",
       "    </tr>\n",
       "  </thead>\n",
       "  <tbody>\n",
       "    <tr>\n",
       "      <th>0</th>\n",
       "      <td>diaryofagameaddict.com</td>\n",
       "      <td>bad</td>\n",
       "    </tr>\n",
       "    <tr>\n",
       "      <th>1</th>\n",
       "      <td>espdesign.com.au</td>\n",
       "      <td>bad</td>\n",
       "    </tr>\n",
       "    <tr>\n",
       "      <th>2</th>\n",
       "      <td>iamagameaddict.com</td>\n",
       "      <td>bad</td>\n",
       "    </tr>\n",
       "    <tr>\n",
       "      <th>3</th>\n",
       "      <td>kalantzis.net</td>\n",
       "      <td>bad</td>\n",
       "    </tr>\n",
       "    <tr>\n",
       "      <th>4</th>\n",
       "      <td>slightlyoffcenter.net</td>\n",
       "      <td>bad</td>\n",
       "    </tr>\n",
       "  </tbody>\n",
       "</table>\n",
       "</div>"
      ],
      "text/plain": [
       "                      url label\n",
       "0  diaryofagameaddict.com   bad\n",
       "1        espdesign.com.au   bad\n",
       "2      iamagameaddict.com   bad\n",
       "3           kalantzis.net   bad\n",
       "4   slightlyoffcenter.net   bad"
      ]
     },
     "execution_count": 6,
     "metadata": {},
     "output_type": "execute_result"
    }
   ],
   "source": [
    "df.head(5)"
   ]
  },
  {
   "cell_type": "code",
   "execution_count": 7,
   "metadata": {},
   "outputs": [],
   "source": [
    "#!pip install tldextract"
   ]
  },
  {
   "cell_type": "code",
   "execution_count": 8,
   "metadata": {},
   "outputs": [],
   "source": [
    "def parsing(url):\n",
    "    subdomain, domain, domain_suffix = (i for i in tldextract.extract(url))\n",
    "    return [subdomain, domain, domain_suffix]\n",
    "\n",
    "def ETL(data):\n",
    "    data2 = data['url']\n",
    "    #print(data2)\n",
    "    data3 = [parsing(i) for i in data2]\n",
    "    #print(data3)\n",
    "    data3 = pd.DataFrame(data3,columns=['subdomain', 'domain', 'TLD'])\n",
    "    data = data.reset_index(drop=True)\n",
    "    data = pd.concat([data,data3], axis=1)\n",
    "    return data"
   ]
  },
  {
   "cell_type": "code",
   "execution_count": 9,
   "metadata": {},
   "outputs": [],
   "source": [
    "df=ETL(df)"
   ]
  },
  {
   "cell_type": "code",
   "execution_count": 10,
   "metadata": {},
   "outputs": [
    {
     "data": {
      "text/html": [
       "<div>\n",
       "<style scoped>\n",
       "    .dataframe tbody tr th:only-of-type {\n",
       "        vertical-align: middle;\n",
       "    }\n",
       "\n",
       "    .dataframe tbody tr th {\n",
       "        vertical-align: top;\n",
       "    }\n",
       "\n",
       "    .dataframe thead th {\n",
       "        text-align: right;\n",
       "    }\n",
       "</style>\n",
       "<table border=\"1\" class=\"dataframe\">\n",
       "  <thead>\n",
       "    <tr style=\"text-align: right;\">\n",
       "      <th></th>\n",
       "      <th>url</th>\n",
       "      <th>label</th>\n",
       "      <th>subdomain</th>\n",
       "      <th>domain</th>\n",
       "      <th>TLD</th>\n",
       "    </tr>\n",
       "  </thead>\n",
       "  <tbody>\n",
       "    <tr>\n",
       "      <th>0</th>\n",
       "      <td>diaryofagameaddict.com</td>\n",
       "      <td>bad</td>\n",
       "      <td></td>\n",
       "      <td>diaryofagameaddict</td>\n",
       "      <td>com</td>\n",
       "    </tr>\n",
       "    <tr>\n",
       "      <th>1</th>\n",
       "      <td>espdesign.com.au</td>\n",
       "      <td>bad</td>\n",
       "      <td></td>\n",
       "      <td>espdesign</td>\n",
       "      <td>com.au</td>\n",
       "    </tr>\n",
       "    <tr>\n",
       "      <th>2</th>\n",
       "      <td>iamagameaddict.com</td>\n",
       "      <td>bad</td>\n",
       "      <td></td>\n",
       "      <td>iamagameaddict</td>\n",
       "      <td>com</td>\n",
       "    </tr>\n",
       "    <tr>\n",
       "      <th>3</th>\n",
       "      <td>kalantzis.net</td>\n",
       "      <td>bad</td>\n",
       "      <td></td>\n",
       "      <td>kalantzis</td>\n",
       "      <td>net</td>\n",
       "    </tr>\n",
       "    <tr>\n",
       "      <th>4</th>\n",
       "      <td>slightlyoffcenter.net</td>\n",
       "      <td>bad</td>\n",
       "      <td></td>\n",
       "      <td>slightlyoffcenter</td>\n",
       "      <td>net</td>\n",
       "    </tr>\n",
       "  </tbody>\n",
       "</table>\n",
       "</div>"
      ],
      "text/plain": [
       "                      url label subdomain              domain     TLD\n",
       "0  diaryofagameaddict.com   bad            diaryofagameaddict     com\n",
       "1        espdesign.com.au   bad                     espdesign  com.au\n",
       "2      iamagameaddict.com   bad                iamagameaddict     com\n",
       "3           kalantzis.net   bad                     kalantzis     net\n",
       "4   slightlyoffcenter.net   bad             slightlyoffcenter     net"
      ]
     },
     "execution_count": 10,
     "metadata": {},
     "output_type": "execute_result"
    }
   ],
   "source": [
    "df.head()"
   ]
  },
  {
   "cell_type": "code",
   "execution_count": 11,
   "metadata": {},
   "outputs": [
    {
     "data": {
      "text/plain": [
       "url          0\n",
       "label        0\n",
       "subdomain    0\n",
       "domain       0\n",
       "TLD          0\n",
       "dtype: int64"
      ]
     },
     "execution_count": 11,
     "metadata": {},
     "output_type": "execute_result"
    }
   ],
   "source": [
    "df.isnull().sum()"
   ]
  },
  {
   "cell_type": "code",
   "execution_count": 12,
   "metadata": {
    "scrolled": true
   },
   "outputs": [
    {
     "data": {
      "text/plain": [
       "<matplotlib.axes._subplots.AxesSubplot at 0x2018c1567b8>"
      ]
     },
     "execution_count": 12,
     "metadata": {},
     "output_type": "execute_result"
    },
    {
     "data": {
      "image/png": "[encoded data removed]",
      "text/plain": [
       "<Figure size 432x288 with 1 Axes>"
      ]
     },
     "metadata": {
      "needs_background": "light"
     },
     "output_type": "display_data"
    }
   ],
   "source": [
    "df.label.value_counts().plot(kind='bar')"
   ]
  },
  {
   "cell_type": "markdown",
   "metadata": {},
   "source": [
    "# Data Preparation"
   ]
  },
  {
   "cell_type": "markdown",
   "metadata": {},
   "source": [
    "We dont need the \"URL\" anymore so lets drop it"
   ]
  },
  {
   "cell_type": "code",
   "execution_count": 13,
   "metadata": {},
   "outputs": [],
   "source": [
    "df=df.drop(['url'],axis=1)"
   ]
  },
  {
   "cell_type": "code",
   "execution_count": 14,
   "metadata": {},
   "outputs": [
    {
     "name": "stdout",
     "output_type": "stream",
     "text": [
      "<class 'pandas.core.frame.DataFrame'>\n",
      "RangeIndex: 420464 entries, 0 to 420463\n",
      "Data columns (total 4 columns):\n",
      "label        420464 non-null object\n",
      "subdomain    420464 non-null object\n",
      "domain       420464 non-null object\n",
      "TLD          420464 non-null object\n",
      "dtypes: object(4)\n",
      "memory usage: 12.8+ MB\n"
     ]
    }
   ],
   "source": [
    "df.info()"
   ]
  },
  {
   "cell_type": "code",
   "execution_count": 15,
   "metadata": {},
   "outputs": [
    {
     "data": {
      "text/html": [
       "<div>\n",
       "<style scoped>\n",
       "    .dataframe tbody tr th:only-of-type {\n",
       "        vertical-align: middle;\n",
       "    }\n",
       "\n",
       "    .dataframe tbody tr th {\n",
       "        vertical-align: top;\n",
       "    }\n",
       "\n",
       "    .dataframe thead th {\n",
       "        text-align: right;\n",
       "    }\n",
       "</style>\n",
       "<table border=\"1\" class=\"dataframe\">\n",
       "  <thead>\n",
       "    <tr style=\"text-align: right;\">\n",
       "      <th></th>\n",
       "      <th>subdomain</th>\n",
       "      <th>domain</th>\n",
       "      <th>TLD</th>\n",
       "    </tr>\n",
       "  </thead>\n",
       "  <tbody>\n",
       "    <tr>\n",
       "      <th>0</th>\n",
       "      <td></td>\n",
       "      <td>diaryofagameaddict</td>\n",
       "      <td>com</td>\n",
       "    </tr>\n",
       "    <tr>\n",
       "      <th>1</th>\n",
       "      <td></td>\n",
       "      <td>espdesign</td>\n",
       "      <td>com.au</td>\n",
       "    </tr>\n",
       "    <tr>\n",
       "      <th>2</th>\n",
       "      <td></td>\n",
       "      <td>iamagameaddict</td>\n",
       "      <td>com</td>\n",
       "    </tr>\n",
       "    <tr>\n",
       "      <th>3</th>\n",
       "      <td></td>\n",
       "      <td>kalantzis</td>\n",
       "      <td>net</td>\n",
       "    </tr>\n",
       "    <tr>\n",
       "      <th>4</th>\n",
       "      <td></td>\n",
       "      <td>slightlyoffcenter</td>\n",
       "      <td>net</td>\n",
       "    </tr>\n",
       "    <tr>\n",
       "      <th>5</th>\n",
       "      <td></td>\n",
       "      <td>toddscarwash</td>\n",
       "      <td>com</td>\n",
       "    </tr>\n",
       "    <tr>\n",
       "      <th>6</th>\n",
       "      <td></td>\n",
       "      <td>tubemoviez</td>\n",
       "      <td>com</td>\n",
       "    </tr>\n",
       "    <tr>\n",
       "      <th>7</th>\n",
       "      <td></td>\n",
       "      <td>ipl</td>\n",
       "      <td>hk</td>\n",
       "    </tr>\n",
       "    <tr>\n",
       "      <th>8</th>\n",
       "      <td></td>\n",
       "      <td>crackspider</td>\n",
       "      <td>us</td>\n",
       "    </tr>\n",
       "    <tr>\n",
       "      <th>9</th>\n",
       "      <td></td>\n",
       "      <td>pos-kupang</td>\n",
       "      <td>com</td>\n",
       "    </tr>\n",
       "    <tr>\n",
       "      <th>10</th>\n",
       "      <td></td>\n",
       "      <td>rupor</td>\n",
       "      <td>info</td>\n",
       "    </tr>\n",
       "    <tr>\n",
       "      <th>11</th>\n",
       "      <td></td>\n",
       "      <td>svision-online</td>\n",
       "      <td>de</td>\n",
       "    </tr>\n",
       "    <tr>\n",
       "      <th>12</th>\n",
       "      <td>officeon</td>\n",
       "      <td>ch</td>\n",
       "      <td>ma</td>\n",
       "    </tr>\n",
       "    <tr>\n",
       "      <th>13</th>\n",
       "      <td></td>\n",
       "      <td>sn-gzzx</td>\n",
       "      <td>com</td>\n",
       "    </tr>\n",
       "    <tr>\n",
       "      <th>14</th>\n",
       "      <td></td>\n",
       "      <td>sunlux</td>\n",
       "      <td>net</td>\n",
       "    </tr>\n",
       "    <tr>\n",
       "      <th>15</th>\n",
       "      <td></td>\n",
       "      <td>outporn</td>\n",
       "      <td>com</td>\n",
       "    </tr>\n",
       "    <tr>\n",
       "      <th>16</th>\n",
       "      <td>timothycopus</td>\n",
       "      <td>aimoo</td>\n",
       "      <td>com</td>\n",
       "    </tr>\n",
       "    <tr>\n",
       "      <th>17</th>\n",
       "      <td></td>\n",
       "      <td>xindalawyer</td>\n",
       "      <td>com</td>\n",
       "    </tr>\n",
       "    <tr>\n",
       "      <th>18</th>\n",
       "      <td>freeserials</td>\n",
       "      <td>spb</td>\n",
       "      <td>ru</td>\n",
       "    </tr>\n",
       "    <tr>\n",
       "      <th>19</th>\n",
       "      <td></td>\n",
       "      <td>deletespyware-adware</td>\n",
       "      <td>com</td>\n",
       "    </tr>\n",
       "    <tr>\n",
       "      <th>20</th>\n",
       "      <td>orbowlada</td>\n",
       "      <td>strefa</td>\n",
       "      <td>pl</td>\n",
       "    </tr>\n",
       "    <tr>\n",
       "      <th>21</th>\n",
       "      <td></td>\n",
       "      <td>ruiyangcn</td>\n",
       "      <td>com</td>\n",
       "    </tr>\n",
       "    <tr>\n",
       "      <th>22</th>\n",
       "      <td></td>\n",
       "      <td>zkic</td>\n",
       "      <td>com</td>\n",
       "    </tr>\n",
       "    <tr>\n",
       "      <th>23</th>\n",
       "      <td>adserving</td>\n",
       "      <td>favorit-network</td>\n",
       "      <td>com</td>\n",
       "    </tr>\n",
       "    <tr>\n",
       "      <th>24</th>\n",
       "      <td></td>\n",
       "      <td>cracks</td>\n",
       "      <td>vg</td>\n",
       "    </tr>\n",
       "    <tr>\n",
       "      <th>25</th>\n",
       "      <td></td>\n",
       "      <td>juicypussyclips</td>\n",
       "      <td>com</td>\n",
       "    </tr>\n",
       "    <tr>\n",
       "      <th>26</th>\n",
       "      <td></td>\n",
       "      <td>nuptialimages</td>\n",
       "      <td>com</td>\n",
       "    </tr>\n",
       "    <tr>\n",
       "      <th>27</th>\n",
       "      <td></td>\n",
       "      <td>andysgame</td>\n",
       "      <td>com</td>\n",
       "    </tr>\n",
       "    <tr>\n",
       "      <th>28</th>\n",
       "      <td></td>\n",
       "      <td>bezproudoff</td>\n",
       "      <td>cz</td>\n",
       "    </tr>\n",
       "    <tr>\n",
       "      <th>29</th>\n",
       "      <td></td>\n",
       "      <td>ceskarepublika</td>\n",
       "      <td>net</td>\n",
       "    </tr>\n",
       "    <tr>\n",
       "      <th>...</th>\n",
       "      <td>...</td>\n",
       "      <td>...</td>\n",
       "      <td>...</td>\n",
       "    </tr>\n",
       "    <tr>\n",
       "      <th>420434</th>\n",
       "      <td>www</td>\n",
       "      <td>alfalima</td>\n",
       "      <td>it</td>\n",
       "    </tr>\n",
       "    <tr>\n",
       "      <th>420435</th>\n",
       "      <td></td>\n",
       "      <td>rapiseebrains</td>\n",
       "      <td>com</td>\n",
       "    </tr>\n",
       "    <tr>\n",
       "      <th>420436</th>\n",
       "      <td></td>\n",
       "      <td>fuji-ncb</td>\n",
       "      <td>com.pk</td>\n",
       "    </tr>\n",
       "    <tr>\n",
       "      <th>420437</th>\n",
       "      <td></td>\n",
       "      <td>aadroid</td>\n",
       "      <td>net</td>\n",
       "    </tr>\n",
       "    <tr>\n",
       "      <th>420438</th>\n",
       "      <td>mit</td>\n",
       "      <td>fileserver4390</td>\n",
       "      <td>org</td>\n",
       "    </tr>\n",
       "    <tr>\n",
       "      <th>420439</th>\n",
       "      <td></td>\n",
       "      <td>cureeczemafast</td>\n",
       "      <td>org</td>\n",
       "    </tr>\n",
       "    <tr>\n",
       "      <th>420440</th>\n",
       "      <td></td>\n",
       "      <td>glutenfreeworks</td>\n",
       "      <td>com</td>\n",
       "    </tr>\n",
       "    <tr>\n",
       "      <th>420441</th>\n",
       "      <td></td>\n",
       "      <td>dataplues</td>\n",
       "      <td>com</td>\n",
       "    </tr>\n",
       "    <tr>\n",
       "      <th>420442</th>\n",
       "      <td></td>\n",
       "      <td>60.250.76.52</td>\n",
       "      <td></td>\n",
       "    </tr>\n",
       "    <tr>\n",
       "      <th>420443</th>\n",
       "      <td></td>\n",
       "      <td>f4321y</td>\n",
       "      <td>com</td>\n",
       "    </tr>\n",
       "    <tr>\n",
       "      <th>420444</th>\n",
       "      <td></td>\n",
       "      <td>mykings</td>\n",
       "      <td>pw</td>\n",
       "    </tr>\n",
       "    <tr>\n",
       "      <th>420445</th>\n",
       "      <td></td>\n",
       "      <td>activatemywebsetup</td>\n",
       "      <td>com</td>\n",
       "    </tr>\n",
       "    <tr>\n",
       "      <th>420446</th>\n",
       "      <td>www</td>\n",
       "      <td>iemailpremium</td>\n",
       "      <td>com</td>\n",
       "    </tr>\n",
       "    <tr>\n",
       "      <th>420447</th>\n",
       "      <td></td>\n",
       "      <td>highpowerresources</td>\n",
       "      <td>com</td>\n",
       "    </tr>\n",
       "    <tr>\n",
       "      <th>420448</th>\n",
       "      <td>new</td>\n",
       "      <td>ASKGRANNYSHOP</td>\n",
       "      <td>COM</td>\n",
       "    </tr>\n",
       "    <tr>\n",
       "      <th>420449</th>\n",
       "      <td>find</td>\n",
       "      <td>burnsmarketingandresearch</td>\n",
       "      <td>com</td>\n",
       "    </tr>\n",
       "    <tr>\n",
       "      <th>420450</th>\n",
       "      <td>gfd</td>\n",
       "      <td>DATINGUPPERCLASS</td>\n",
       "      <td>COM</td>\n",
       "    </tr>\n",
       "    <tr>\n",
       "      <th>420451</th>\n",
       "      <td>rty</td>\n",
       "      <td>freebiesfortheover60s</td>\n",
       "      <td>com</td>\n",
       "    </tr>\n",
       "    <tr>\n",
       "      <th>420452</th>\n",
       "      <td></td>\n",
       "      <td>defibel</td>\n",
       "      <td>org</td>\n",
       "    </tr>\n",
       "    <tr>\n",
       "      <th>420453</th>\n",
       "      <td></td>\n",
       "      <td>stefanocardone</td>\n",
       "      <td>com</td>\n",
       "    </tr>\n",
       "    <tr>\n",
       "      <th>420454</th>\n",
       "      <td></td>\n",
       "      <td>defibel</td>\n",
       "      <td>org</td>\n",
       "    </tr>\n",
       "    <tr>\n",
       "      <th>420455</th>\n",
       "      <td></td>\n",
       "      <td>shapingsoftware</td>\n",
       "      <td>com</td>\n",
       "    </tr>\n",
       "    <tr>\n",
       "      <th>420456</th>\n",
       "      <td>free</td>\n",
       "      <td>ulohapp</td>\n",
       "      <td>info</td>\n",
       "    </tr>\n",
       "    <tr>\n",
       "      <th>420457</th>\n",
       "      <td>free</td>\n",
       "      <td>ulohapp</td>\n",
       "      <td>info</td>\n",
       "    </tr>\n",
       "    <tr>\n",
       "      <th>420458</th>\n",
       "      <td>mol</td>\n",
       "      <td>com-ho</td>\n",
       "      <td>me</td>\n",
       "    </tr>\n",
       "    <tr>\n",
       "      <th>420459</th>\n",
       "      <td></td>\n",
       "      <td>23.227.196.215</td>\n",
       "      <td></td>\n",
       "    </tr>\n",
       "    <tr>\n",
       "      <th>420460</th>\n",
       "      <td></td>\n",
       "      <td>apple-checker</td>\n",
       "      <td>org</td>\n",
       "    </tr>\n",
       "    <tr>\n",
       "      <th>420461</th>\n",
       "      <td></td>\n",
       "      <td>apple-iclods</td>\n",
       "      <td>org</td>\n",
       "    </tr>\n",
       "    <tr>\n",
       "      <th>420462</th>\n",
       "      <td></td>\n",
       "      <td>apple-uptoday</td>\n",
       "      <td>org</td>\n",
       "    </tr>\n",
       "    <tr>\n",
       "      <th>420463</th>\n",
       "      <td></td>\n",
       "      <td>apple-search</td>\n",
       "      <td>info</td>\n",
       "    </tr>\n",
       "  </tbody>\n",
       "</table>\n",
       "<p>420464 rows × 3 columns</p>\n",
       "</div>"
      ],
      "text/plain": [
       "           subdomain                     domain     TLD\n",
       "0                            diaryofagameaddict     com\n",
       "1                                     espdesign  com.au\n",
       "2                                iamagameaddict     com\n",
       "3                                     kalantzis     net\n",
       "4                             slightlyoffcenter     net\n",
       "5                                  toddscarwash     com\n",
       "6                                    tubemoviez     com\n",
       "7                                           ipl      hk\n",
       "8                                   crackspider      us\n",
       "9                                    pos-kupang     com\n",
       "10                                        rupor    info\n",
       "11                               svision-online      de\n",
       "12          officeon                         ch      ma\n",
       "13                                      sn-gzzx     com\n",
       "14                                       sunlux     net\n",
       "15                                      outporn     com\n",
       "16      timothycopus                      aimoo     com\n",
       "17                                  xindalawyer     com\n",
       "18       freeserials                        spb      ru\n",
       "19                         deletespyware-adware     com\n",
       "20         orbowlada                     strefa      pl\n",
       "21                                    ruiyangcn     com\n",
       "22                                         zkic     com\n",
       "23         adserving            favorit-network     com\n",
       "24                                       cracks      vg\n",
       "25                              juicypussyclips     com\n",
       "26                                nuptialimages     com\n",
       "27                                    andysgame     com\n",
       "28                                  bezproudoff      cz\n",
       "29                               ceskarepublika     net\n",
       "...              ...                        ...     ...\n",
       "420434           www                   alfalima      it\n",
       "420435                            rapiseebrains     com\n",
       "420436                                 fuji-ncb  com.pk\n",
       "420437                                  aadroid     net\n",
       "420438           mit             fileserver4390     org\n",
       "420439                           cureeczemafast     org\n",
       "420440                          glutenfreeworks     com\n",
       "420441                                dataplues     com\n",
       "420442                             60.250.76.52        \n",
       "420443                                   f4321y     com\n",
       "420444                                  mykings      pw\n",
       "420445                       activatemywebsetup     com\n",
       "420446           www              iemailpremium     com\n",
       "420447                       highpowerresources     com\n",
       "420448           new              ASKGRANNYSHOP     COM\n",
       "420449          find  burnsmarketingandresearch     com\n",
       "420450           gfd           DATINGUPPERCLASS     COM\n",
       "420451           rty      freebiesfortheover60s     com\n",
       "420452                                  defibel     org\n",
       "420453                           stefanocardone     com\n",
       "420454                                  defibel     org\n",
       "420455                          shapingsoftware     com\n",
       "420456          free                    ulohapp    info\n",
       "420457          free                    ulohapp    info\n",
       "420458           mol                     com-ho      me\n",
       "420459                           23.227.196.215        \n",
       "420460                            apple-checker     org\n",
       "420461                             apple-iclods     org\n",
       "420462                            apple-uptoday     org\n",
       "420463                             apple-search    info\n",
       "\n",
       "[420464 rows x 3 columns]"
      ]
     },
     "execution_count": 15,
     "metadata": {},
     "output_type": "execute_result"
    }
   ],
   "source": [
    "df[['subdomain','domain','TLD']]"
   ]
  },
  {
   "cell_type": "code",
   "execution_count": 16,
   "metadata": {},
   "outputs": [
    {
     "data": {
      "text/html": [
       "<div>\n",
       "<style scoped>\n",
       "    .dataframe tbody tr th:only-of-type {\n",
       "        vertical-align: middle;\n",
       "    }\n",
       "\n",
       "    .dataframe tbody tr th {\n",
       "        vertical-align: top;\n",
       "    }\n",
       "\n",
       "    .dataframe thead th {\n",
       "        text-align: right;\n",
       "    }\n",
       "</style>\n",
       "<table border=\"1\" class=\"dataframe\">\n",
       "  <thead>\n",
       "    <tr style=\"text-align: right;\">\n",
       "      <th></th>\n",
       "      <th>label</th>\n",
       "      <th>subdomain</th>\n",
       "      <th>domain</th>\n",
       "      <th>TLD</th>\n",
       "    </tr>\n",
       "  </thead>\n",
       "  <tbody>\n",
       "    <tr>\n",
       "      <th>0</th>\n",
       "      <td>bad</td>\n",
       "      <td></td>\n",
       "      <td>diaryofagameaddict</td>\n",
       "      <td>com</td>\n",
       "    </tr>\n",
       "    <tr>\n",
       "      <th>1</th>\n",
       "      <td>bad</td>\n",
       "      <td></td>\n",
       "      <td>espdesign</td>\n",
       "      <td>com.au</td>\n",
       "    </tr>\n",
       "    <tr>\n",
       "      <th>2</th>\n",
       "      <td>bad</td>\n",
       "      <td></td>\n",
       "      <td>iamagameaddict</td>\n",
       "      <td>com</td>\n",
       "    </tr>\n",
       "    <tr>\n",
       "      <th>3</th>\n",
       "      <td>bad</td>\n",
       "      <td></td>\n",
       "      <td>kalantzis</td>\n",
       "      <td>net</td>\n",
       "    </tr>\n",
       "    <tr>\n",
       "      <th>4</th>\n",
       "      <td>bad</td>\n",
       "      <td></td>\n",
       "      <td>slightlyoffcenter</td>\n",
       "      <td>net</td>\n",
       "    </tr>\n",
       "  </tbody>\n",
       "</table>\n",
       "</div>"
      ],
      "text/plain": [
       "  label subdomain              domain     TLD\n",
       "0   bad            diaryofagameaddict     com\n",
       "1   bad                     espdesign  com.au\n",
       "2   bad                iamagameaddict     com\n",
       "3   bad                     kalantzis     net\n",
       "4   bad             slightlyoffcenter     net"
      ]
     },
     "execution_count": 16,
     "metadata": {},
     "output_type": "execute_result"
    }
   ],
   "source": [
    "df.head()"
   ]
  },
  {
   "cell_type": "markdown",
   "metadata": {},
   "source": [
    "All the features are categorical so lets encode all of them"
   ]
  },
  {
   "cell_type": "code",
   "execution_count": 17,
   "metadata": {},
   "outputs": [],
   "source": [
    "le = LabelEncoder()\n",
    "col = df.columns\n",
    "df[col] = df[col].apply(lambda c:le.fit_transform(c))"
   ]
  },
  {
   "cell_type": "markdown",
   "metadata": {},
   "source": [
    "# Model Train & Test"
   ]
  },
  {
   "cell_type": "code",
   "execution_count": 18,
   "metadata": {},
   "outputs": [
    {
     "name": "stdout",
     "output_type": "stream",
     "text": [
      "====x_train,x_test,y_train,y_test shapes are as below====\n",
      "(336371, 3) (84093, 3) (336371,) (84093,)\n"
     ]
    }
   ],
   "source": [
    "Y=df.label\n",
    "X=df.drop(['label'],axis=1)\n",
    "### splitting data in training and test set\n",
    "x_train,x_test,y_train,y_test=train_test_split(X,Y, test_size=0.2, random_state=0)\n",
    "\n",
    "### Shape of the training and test set\n",
    "print(\"====x_train,x_test,y_train,y_test shapes are as below====\")\n",
    "print(x_train.shape,x_test.shape,y_train.shape,y_test.shape)"
   ]
  },
  {
   "cell_type": "markdown",
   "metadata": {},
   "source": [
    "# Confusion Matrix function"
   ]
  },
  {
   "cell_type": "code",
   "execution_count": 19,
   "metadata": {},
   "outputs": [],
   "source": [
    "def plot_confusion_matrix(cm,normalize=False,\n",
    "                              title='Confusion matrix',\n",
    "                              cmap=plt.cm.Blues):\n",
    "        \"\"\"\n",
    "        This function prints and plots the confusion matrix.\n",
    "        Normalization can be applied by setting `normalize=True`.\n",
    "        \"\"\"\n",
    "        classes=['Non-Fraud','Fraud']\n",
    "        plt.imshow(cm, interpolation='nearest', cmap=cmap)\n",
    "        plt.title(title)\n",
    "        plt.colorbar()\n",
    "        tick_marks = np.arange(len(classes))\n",
    "        plt.xticks(tick_marks, classes, rotation=0)\n",
    "        plt.yticks(tick_marks, classes)\n",
    "\n",
    "        if normalize:\n",
    "            cm = cm.astype('float') / cm.sum(axis=1)[:, np.newaxis]\n",
    "            # print(\"Normalized confusion matrix\")\n",
    "        else:\n",
    "            1  # print('Confusion matrix, without normalization')\n",
    "\n",
    "        # print(cm)\n",
    "\n",
    "        thresh = cm.max() / 2.\n",
    "        for i, j in itertools.product(range(cm.shape[0]), range(cm.shape[1])):\n",
    "            plt.text(j, i, cm[i, j],\n",
    "                     horizontalalignment=\"center\",\n",
    "                     color=\"white\" if cm[i, j] > thresh else \"black\")\n",
    "\n",
    "        plt.tight_layout()\n",
    "        plt.ylabel('True label')\n",
    "        plt.xlabel('Predicted label')\n",
    "        return ()"
   ]
  },
  {
   "cell_type": "markdown",
   "metadata": {},
   "source": [
    "# Random Forest Classification"
   ]
  },
  {
   "cell_type": "code",
   "execution_count": 22,
   "metadata": {},
   "outputs": [
    {
     "name": "stderr",
     "output_type": "stream",
     "text": [
      "C:\\Users\\eprmitr\\AppData\\Local\\Continuum\\anaconda3\\lib\\site-packages\\sklearn\\ensemble\\forest.py:246: FutureWarning: The default value of n_estimators will change from 10 in version 0.20 to 100 in 0.22.\n",
      "  \"10 in version 0.20 to 100 in 0.22.\", FutureWarning)\n"
     ]
    },
    {
     "name": "stdout",
     "output_type": "stream",
     "text": [
      "====Confusion Matrix====\n"
     ]
    },
    {
     "data": {
      "image/png": "[encoded data removed]",
      "text/plain": [
       "<Figure size 432x288 with 2 Axes>"
      ]
     },
     "metadata": {
      "needs_background": "light"
     },
     "output_type": "display_data"
    },
    {
     "name": "stdout",
     "output_type": "stream",
     "text": [
      "======Model Accuracy=======\n",
      "DT Train Accuracy ::  0.993200959654667\n",
      "DT Test Accuracy  ::  0.9452154162653253\n",
      "\n",
      "\n",
      "====Classification Report====\n",
      "\n",
      "\n",
      "              precision    recall  f1-score   support\n",
      "\n",
      "           0       0.84      0.87      0.85     15174\n",
      "           1       0.97      0.96      0.97     68919\n",
      "\n",
      "   micro avg       0.95      0.95      0.95     84093\n",
      "   macro avg       0.90      0.91      0.91     84093\n",
      "weighted avg       0.95      0.95      0.95     84093\n",
      "\n",
      "Wall time: 19.7 s\n"
     ]
    }
   ],
   "source": [
    "%%time\n",
    "rforest=RandomForestClassifier(criterion='entropy')\n",
    "rforest.fit(x_train,y_train)\n",
    "y_pred=rforest.predict(x_test)\n",
    "cnf_matrix_rforest=confusion_matrix(y_test,y_pred)\n",
    "print(\"====Confusion Matrix====\")\n",
    "plt.figure()\n",
    "plot_confusion_matrix(cnf_matrix_rforest, title='Confusion matrix for Random Forest')\n",
    "plt.show()\n",
    "print(\"======Model Accuracy=======\") \n",
    "print (\"DT Train Accuracy :: \", accuracy_score(y_train, rforest.predict(x_train)))\n",
    "print (\"DT Test Accuracy  :: \", accuracy_score(y_test, y_pred))\n",
    "print(\"\\n\")\n",
    "print(\"====Classification Report====\")\n",
    "print(\"\\n\")\n",
    "print(classification_report(y_test,y_pred))"
   ]
  },
  {
   "cell_type": "markdown",
   "metadata": {},
   "source": [
    "# Decision Tree Classification"
   ]
  },
  {
   "cell_type": "code",
   "execution_count": 23,
   "metadata": {},
   "outputs": [
    {
     "name": "stdout",
     "output_type": "stream",
     "text": [
      "======Confusion Matrix=======\n"
     ]
    },
    {
     "data": {
      "image/png": "[encoded data removed]",
      "text/plain": [
       "<Figure size 432x288 with 2 Axes>"
      ]
     },
     "metadata": {
      "needs_background": "light"
     },
     "output_type": "display_data"
    },
    {
     "name": "stdout",
     "output_type": "stream",
     "text": [
      "======Model Accuracy=======\n",
      "DT Train Accuracy ::  0.9992508272116205\n",
      "DT Test Accuracy  ::  0.9478315674312963\n",
      "\n",
      "\n",
      "======Classification Report=======\n",
      "              precision    recall  f1-score   support\n",
      "\n",
      "           0       0.85      0.87      0.86     15174\n",
      "           1       0.97      0.97      0.97     68919\n",
      "\n",
      "   micro avg       0.95      0.95      0.95     84093\n",
      "   macro avg       0.91      0.92      0.91     84093\n",
      "weighted avg       0.95      0.95      0.95     84093\n",
      "\n",
      "Wall time: 4.26 s\n"
     ]
    }
   ],
   "source": [
    "%%time\n",
    "dtree=DecisionTreeClassifier(max_depth=100,criterion='entropy')\n",
    "dtree.fit(x_train,y_train)\n",
    "y_pred=dtree.predict(x_test)\n",
    "cnf_matrix_dtree=confusion_matrix(y_test,y_pred)\n",
    "print(\"======Confusion Matrix=======\")\n",
    "plt.figure()\n",
    "plot_confusion_matrix(cnf_matrix_dtree, title='Confusion matrix for Decision tree')\n",
    "plt.show()\n",
    "print(\"======Model Accuracy=======\") \n",
    "print (\"DT Train Accuracy :: \", accuracy_score(y_train, dtree.predict(x_train)))\n",
    "print (\"DT Test Accuracy  :: \", accuracy_score(y_test, y_pred))\n",
    "print('\\n')\n",
    "print(\"======Classification Report=======\") \n",
    "print(classification_report(y_test,y_pred))"
   ]
  }
 ],
 "metadata": {
  "kernelspec": {
   "display_name": "Python 3",
   "language": "python",
   "name": "python3"
  },
  "language_info": {
   "codemirror_mode": {
    "name": "ipython",
    "version": 3
   },
   "file_extension": ".py",
   "mimetype": "text/x-python",
   "name": "python",
   "nbconvert_exporter": "python",
   "pygments_lexer": "ipython3",
   "version": "3.7.3"
  }
 },
 "nbformat": 4,
 "nbformat_minor": 2
}
